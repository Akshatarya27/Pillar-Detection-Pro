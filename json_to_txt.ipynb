{
 "cells": [
  {
   "cell_type": "code",
   "execution_count": 1,
   "id": "c502debd-bc1a-4c2f-a2f3-6bfe75c94689",
   "metadata": {},
   "outputs": [],
   "source": [
    "import json\n",
    "import os\n",
    "\n",
    "def convert_labelme_to_yolo(json_path, output_dir, class_name=\"object\"):\n",
    "    with open(json_path, \"r\") as f:\n",
    "        data = json.load(f)\n",
    "\n",
    "    img_width = data[\"imageWidth\"]\n",
    "    img_height = data[\"imageHeight\"]\n",
    "    \n",
    "    yolo_annotations = []\n",
    "    for shape in data[\"shapes\"]:\n",
    "        label = shape[\"label\"]  # Get class label\n",
    "        points = shape[\"points\"]\n",
    "\n",
    "        x_min = min([p[0] for p in points])\n",
    "        y_min = min([p[1] for p in points])\n",
    "        x_max = max([p[0] for p in points])\n",
    "        y_max = max([p[1] for p in points])\n",
    "\n",
    "        # Convert to YOLO format\n",
    "        x_center = (x_min + x_max) / (2 * img_width)\n",
    "        y_center = (y_min + y_max) / (2 * img_height)\n",
    "        width = (x_max - x_min) / img_width\n",
    "        height = (y_max - y_min) / img_height\n",
    "\n",
    "        yolo_annotations.append(f\"0 {x_center} {y_center} {width} {height}\\n\")\n",
    "\n",
    "    # Save as YOLO TXT file\n",
    "    txt_filename = os.path.join(output_dir, os.path.basename(json_path).replace(\".json\", \".txt\"))\n",
    "    with open(txt_filename, \"w\") as f:\n",
    "        f.writelines(yolo_annotations)\n",
    "\n",
    "# Convert all JSON files in a folder\n",
    "json_folder = \"C:/Users/aksha/OneDrive/Documents/vizexpert/labelme/Json_labels\"\n",
    "output_folder = \"C:/Users/aksha/OneDrive/Documents/vizexpert/labelme/dataset/labels\"\n",
    "\n",
    "os.makedirs(output_folder, exist_ok=True)\n",
    "\n",
    "for json_file in os.listdir(json_folder):\n",
    "    if json_file.endswith(\".json\"):\n",
    "        convert_labelme_to_yolo(os.path.join(json_folder, json_file), output_folder)\n"
   ]
  },
  {
   "cell_type": "code",
   "execution_count": null,
   "id": "b526b303-268b-424a-8854-598ccac9d1e7",
   "metadata": {},
   "outputs": [],
   "source": []
  }
 ],
 "metadata": {
  "kernelspec": {
   "display_name": "Python 3",
   "language": "python",
   "name": "python3"
  },
  "language_info": {
   "codemirror_mode": {
    "name": "ipython",
    "version": 3
   },
   "file_extension": ".py",
   "mimetype": "text/x-python",
   "name": "python",
   "nbconvert_exporter": "python",
   "pygments_lexer": "ipython3",
   "version": "3.12.4"
  }
 },
 "nbformat": 4,
 "nbformat_minor": 5
}
